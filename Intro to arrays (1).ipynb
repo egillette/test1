{
 "cells": [
  {
   "cell_type": "markdown",
   "metadata": {},
   "source": [
    "# Introduction to arrays and loops\n",
    "\n",
    "Here is a simple data set for us to work some example problems with, storred in an array called \"data\""
   ]
  },
  {
   "cell_type": "code",
   "execution_count": 1,
   "metadata": {
    "scrolled": true
   },
   "outputs": [
    {
     "name": "stdout",
     "output_type": "stream",
     "text": [
      "[1.1, 1.12, 1.08, 1.09, 1.15]\n"
     ]
    }
   ],
   "source": [
    "# here is a set of volume data, stored in an array. the variable \"data\" contains all of the values you see below\n",
    "\n",
    "data = [1.10, 1.12, 1.08, 1.09, 1.15]\n",
    "\n",
    "# we can display the data outside of the coding windown using the print command:\n",
    "\n",
    "print (data)\n",
    "\n",
    "#Press RUN above to see the output   "
   ]
  },
  {
   "cell_type": "markdown",
   "metadata": {},
   "source": [
    "If we want to call an individual data point out of the array, we use an index number which corresponds to it's place in the array. \n",
    "all computer programing languages starting counting at zero, so calling each data point in the data array and printing them out looks like this:"
   ]
  },
  {
   "cell_type": "code",
   "execution_count": 2,
   "metadata": {},
   "outputs": [
    {
     "name": "stdout",
     "output_type": "stream",
     "text": [
      "1.1\n",
      "1.12\n",
      "1.08\n",
      "1.09\n",
      "1.15\n"
     ]
    }
   ],
   "source": [
    "print (data[0])\n",
    "print (data[1])\n",
    "print (data[2])\n",
    "print (data[3])\n",
    "print (data[4])\n",
    "#press RUN to see the output"
   ]
  },
  {
   "cell_type": "markdown",
   "metadata": {},
   "source": [
    "This isn't very helpful if we have hundreds or thousands of data points; would you want to type out every single one?\n",
    "\n",
    "Luckily, we can always automate repative functions!\n",
    "\n",
    "One way to do this is called a \"while loop\":\n",
    "We will ask the computer to continue doing a certain process <b> while </b>  some condition is still met. Typically, we can set that condition to a value. The while loop below is set up to run while the variable 'count' is less than 5. Every time the loop runs, we add 1 to the count variable to keep track of how many times the loop has run:"
   ]
  },
  {
   "cell_type": "code",
   "execution_count": 3,
   "metadata": {},
   "outputs": [
    {
     "name": "stdout",
     "output_type": "stream",
     "text": [
      "1.1\n",
      "1.12\n",
      "1.08\n",
      "1.09\n",
      "1.15\n"
     ]
    }
   ],
   "source": [
    "# count is a variable we will use to to keep track of how many times we've repeated an opperation\n",
    "count = 0\n",
    "# a while loop is a way to repeat an opporation; as long as count is less than 5, the while loop will continue to run. \n",
    "# here, we're telling the loop \n",
    "while count < 5:\n",
    "    print (data[count])\n",
    "    count = count + 1\n",
    "    \n",
    "#Press RUN to see the output of the while loop"
   ]
  },
  {
   "cell_type": "markdown",
   "metadata": {},
   "source": [
    "See how much easier that was!? This comes in handy for mathematical functions too, like averages and standard deviations!"
   ]
  },
  {
   "cell_type": "code",
   "execution_count": 4,
   "metadata": {},
   "outputs": [
    {
     "name": "stdout",
     "output_type": "stream",
     "text": [
      "1.108\n"
     ]
    }
   ],
   "source": [
    "import math\n",
    "# average data\n",
    "count = 0\n",
    "average = 0\n",
    "while count <5:\n",
    "    average = average + data[count]\n",
    "    count = count +1\n",
    "average = average/5\n",
    "print (average)\n"
   ]
  },
  {
   "cell_type": "code",
   "execution_count": 6,
   "metadata": {},
   "outputs": [
    {
     "name": "stdout",
     "output_type": "stream",
     "text": [
      "0.027748873851023155\n"
     ]
    }
   ],
   "source": [
    "# standard devation\n",
    "count = 0\n",
    "sigma_x = 0\n",
    "\n",
    "while count < 5:\n",
    "    sigma_x = sigma_x + ((data[count]-average)**2)\n",
    "    count = count + 1\n",
    "\n",
    "std = math.sqrt(sigma_x/(5-1))\n",
    "print (std)"
   ]
  },
  {
   "cell_type": "markdown",
   "metadata": {},
   "source": [
    "Now, you try calculating average and standard deviation using while loops, for a new data set, loaded  in the block below:\n"
   ]
  },
  {
   "cell_type": "code",
   "execution_count": null,
   "metadata": {},
   "outputs": [],
   "source": []
  }
 ],
 "metadata": {
  "kernelspec": {
   "display_name": "Python 3",
   "language": "python",
   "name": "python3"
  },
  "language_info": {
   "codemirror_mode": {
    "name": "ipython",
    "version": 3
   },
   "file_extension": ".py",
   "mimetype": "text/x-python",
   "name": "python",
   "nbconvert_exporter": "python",
   "pygments_lexer": "ipython3",
   "version": "3.6.5"
  }
 },
 "nbformat": 4,
 "nbformat_minor": 2
}
